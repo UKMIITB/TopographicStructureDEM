{
 "cells": [
  {
   "cell_type": "code",
   "execution_count": 1256,
   "metadata": {},
   "outputs": [],
   "source": [
    "import numpy as np\n",
    "import copy\n",
    "import math\n",
    "import pandas as pd\n",
    "import numpy as np"
   ]
  },
  {
   "cell_type": "code",
   "execution_count": 1257,
   "metadata": {},
   "outputs": [],
   "source": [
    "#A function to return neighbours of a given position in a given matrix. Output is a list of values\n",
    "#Order is topright, right, bottomright, bottom, bottomleft, left, topleft, top\n",
    "def return_neighbours(rowindex, colindex, matrix):\n",
    "    '''This takes input(rowindex, colindex, matrix) and returns a list of neighbour values from given matrix in \n",
    "    clockwise direction starting from topright and finally to top'''\n",
    "    neighbour_values = []\n",
    "    \n",
    "    neighbour_values.append(matrix[rowindex-1][colindex+1])\n",
    "    neighbour_values.append(matrix[rowindex][colindex+1])\n",
    "    neighbour_values.append(matrix[rowindex+1][colindex+1])\n",
    "    neighbour_values.append(matrix[rowindex+1][colindex])\n",
    "    neighbour_values.append(matrix[rowindex+1][colindex-1])\n",
    "    neighbour_values.append(matrix[rowindex][colindex-1])\n",
    "    neighbour_values.append(matrix[rowindex-1][colindex-1])\n",
    "    neighbour_values.append(matrix[rowindex-1][colindex])\n",
    "    \n",
    "    return neighbour_values"
   ]
  },
  {
   "cell_type": "code",
   "execution_count": 1258,
   "metadata": {},
   "outputs": [],
   "source": [
    "#To return the value of row,col based on the above order\n",
    "def return_neighbours_location(row, col, index):\n",
    "    '''This function takes input as (row, col, index) and returns (row,col) tuple of neighbour for given index\n",
    "    It is indexed in clockwise direction starting from topright to top'''\n",
    "    if index==0:               #topright,\n",
    "        return (row-1,col+1)\n",
    "    \n",
    "    elif index==1:             #right, \n",
    "        return (row,col+1)\n",
    "    \n",
    "    elif index==2:             #bottomright, \n",
    "        return (row+1,col+1)\n",
    "    \n",
    "    elif index==3:             #bottom, \n",
    "        return (row+1,col)\n",
    "    \n",
    "    elif index==4:             #bottomleft, \n",
    "        return (row+1,col-1)\n",
    "    \n",
    "    elif index==5:             #left, \n",
    "        return (row,col-1)\n",
    "    \n",
    "    elif index==6:             #topleft, \n",
    "        return (row-1,col-1)\n",
    "    \n",
    "    else:                      #top\n",
    "        return (row-1,col)"
   ]
  },
  {
   "cell_type": "code",
   "execution_count": 1259,
   "metadata": {},
   "outputs": [],
   "source": [
    "#To return the value of major flow direction based on index \n",
    "#Order is topright, right, bottomright, bottom, bottomleft, left, topleft, top\n",
    "def return_major_flowdir(index):\n",
    "    '''This function takes input as index and return major flow direction value corresponding to that index'''\n",
    "    if index==0:    #Topright\n",
    "        return 1\n",
    "    \n",
    "    elif index==1:  #Right \n",
    "        return 2\n",
    "    \n",
    "    elif index==2:  #Bottomright\n",
    "        return 4\n",
    "    \n",
    "    elif index==3:  #Bottom\n",
    "        return 8\n",
    "    \n",
    "    elif index==4:  #Bottomleft\n",
    "        return 16\n",
    "    \n",
    "    elif index==5:  #Left\n",
    "        return 32\n",
    "    \n",
    "    elif index==6:  #Topleft\n",
    "        return 64\n",
    "    \n",
    "    else:\n",
    "        return 128  #Top"
   ]
  },
  {
   "cell_type": "code",
   "execution_count": 1260,
   "metadata": {},
   "outputs": [],
   "source": [
    "#dem = np.zeros((12,12))\n",
    "dem = np.zeros((10,10))"
   ]
  },
  {
   "cell_type": "code",
   "execution_count": 1261,
   "metadata": {},
   "outputs": [],
   "source": [
    "#hello =\"778 765 750 740 747 759 765 766 769 776 786 795 770 758 745 737 741 751 753 761 777 789 802 814 777 763 747 736 735 743 750 767 787 806 820 832 786 767 750 737 729 739 752 769 785 797 808 822 794 773 756 741 730 732 744 759 772 779 789 806 799 782 763 750 737 728 732 745 757 767 782 801 802 788 771 761 751 736 729 738 751 764 779 798 799 790 780 772 762 746 733 737 754 770 784 794 811 799 787 771 757 741 728 730 745 765 779 783 823 807 790 774 762 748 733 724 733 750 764 763 830 814 801 787 776 761 743 728 725 737 748 751 822 818 811 801 791 776 757 739 726 725 735 751\"\n",
    "hello =\"07 07 06 07 07 07 07 05 07 07 09 09 08 09 09 09 09 07 09 09 11 11 10 11 11 11 11 09 11 11 12 12 08 12 12 12 12 10 12 12 13 12 07 12 13 13 13 11 13 13 14 07 06 11 14 14 14 12 14 14 15 07 07 08 09 15 15 13 15 15 15 08 08 08 07 16 16 14 16 16 15 11 11 11 11 17 17 06 17 17 15 15 15 15 15 18 18 15 18 18\""
   ]
  },
  {
   "cell_type": "code",
   "execution_count": 1262,
   "metadata": {},
   "outputs": [],
   "source": [
    "#Forming the DEM from the given data\n",
    "index=0\n",
    "for row in range(0,10):\n",
    "    for col in range(0,10):\n",
    "        #num=hello[index]+hello[index+1]+hello[index+2]\n",
    "        num=hello[index]+hello[index+1]\n",
    "        storenum=int(num,10)\n",
    "        #index=index+4\n",
    "        index=index+3\n",
    "        dem[row][col]=storenum"
   ]
  },
  {
   "cell_type": "code",
   "execution_count": 1263,
   "metadata": {},
   "outputs": [
    {
     "data": {
      "text/plain": [
       "array([[ 7.,  7.,  6.,  7.,  7.,  7.,  7.,  5.,  7.,  7.],\n",
       "       [ 9.,  9.,  8.,  9.,  9.,  9.,  9.,  7.,  9.,  9.],\n",
       "       [11., 11., 10., 11., 11., 11., 11.,  9., 11., 11.],\n",
       "       [12., 12.,  8., 12., 12., 12., 12., 10., 12., 12.],\n",
       "       [13., 12.,  7., 12., 13., 13., 13., 11., 13., 13.],\n",
       "       [14.,  7.,  6., 11., 14., 14., 14., 12., 14., 14.],\n",
       "       [15.,  7.,  7.,  8.,  9., 15., 15., 13., 15., 15.],\n",
       "       [15.,  8.,  8.,  8.,  7., 16., 16., 14., 16., 16.],\n",
       "       [15., 11., 11., 11., 11., 17., 17.,  6., 17., 17.],\n",
       "       [15., 15., 15., 15., 15., 18., 18., 15., 18., 18.]])"
      ]
     },
     "execution_count": 1263,
     "metadata": {},
     "output_type": "execute_result"
    }
   ],
   "source": [
    "dem"
   ]
  },
  {
   "cell_type": "code",
   "execution_count": 1264,
   "metadata": {},
   "outputs": [],
   "source": [
    "#newdem will store the 1st correction \n",
    "newdem = copy.copy(dem)\n",
    "rowlength, collength=dem.shape"
   ]
  },
  {
   "cell_type": "code",
   "execution_count": 1265,
   "metadata": {},
   "outputs": [],
   "source": [
    "#this is used to fill single cell depression by raising it to minimum neighbour value and store in newdem variable\n",
    "#border values are excluded\n",
    "def depressionlessdem():\n",
    "    '''This function performs depressionless dem calculation by raising centre pixel value to minimum of \n",
    "    neighbour values and returns False if none of the values were altered else True if any single pixel value was \n",
    "    updated'''\n",
    "    isfound=False\n",
    "    for row in range(1,rowlength-1):\n",
    "        for col in range(1,collength-1):\n",
    "            \n",
    "            centre=newdem[row][col]\n",
    "            neighbour_values = return_neighbours(row, col, newdem)\n",
    "            \n",
    "            if(centre<min(neighbour_values)):\n",
    "                newdem[row][col]=min(neighbour_values)\n",
    "                isfound=True\n",
    "                \n",
    "            else:\n",
    "                newdem[row][col]\n",
    "                \n",
    "    return isfound"
   ]
  },
  {
   "cell_type": "code",
   "execution_count": 1266,
   "metadata": {},
   "outputs": [],
   "source": [
    "isfound = True\n",
    "while(isfound==True):\n",
    "    isfound =depressionlessdem()"
   ]
  },
  {
   "cell_type": "code",
   "execution_count": 1267,
   "metadata": {},
   "outputs": [
    {
     "data": {
      "text/plain": [
       "array([[ 7.,  7.,  6.,  7.,  7.,  7.,  7.,  5.,  7.,  7.],\n",
       "       [ 9.,  9.,  8.,  9.,  9.,  9.,  9.,  7.,  9.,  9.],\n",
       "       [11., 11., 10., 11., 11., 11., 11.,  9., 11., 11.],\n",
       "       [12., 12.,  8., 12., 12., 12., 12., 10., 12., 12.],\n",
       "       [13., 12.,  7., 12., 13., 13., 13., 11., 13., 13.],\n",
       "       [14.,  7.,  7., 11., 14., 14., 14., 12., 14., 14.],\n",
       "       [15.,  7.,  7.,  8.,  9., 15., 15., 13., 15., 15.],\n",
       "       [15.,  8.,  8.,  8.,  8., 16., 16., 14., 16., 16.],\n",
       "       [15., 11., 11., 11., 11., 17., 17., 14., 17., 17.],\n",
       "       [15., 15., 15., 15., 15., 18., 18., 15., 18., 18.]])"
      ]
     },
     "execution_count": 1267,
     "metadata": {},
     "output_type": "execute_result"
    }
   ],
   "source": [
    "newdem"
   ]
  },
  {
   "cell_type": "code",
   "execution_count": 1268,
   "metadata": {},
   "outputs": [
    {
     "data": {
      "text/plain": [
       "array([[ 32., 128., 128., 128., 128., 128., 128., 128., 128.,   2.],\n",
       "       [ 32.,   0.,   0.,   0.,   0.,   0.,   0.,   0.,   0.,   2.],\n",
       "       [ 32.,   0.,   0.,   0.,   0.,   0.,   0.,   0.,   0.,   2.],\n",
       "       [ 32.,   0.,   0.,   0.,   0.,   0.,   0.,   0.,   0.,   2.],\n",
       "       [ 32.,   0.,   0.,   0.,   0.,   0.,   0.,   0.,   0.,   2.],\n",
       "       [ 32.,   0.,   0.,   0.,   0.,   0.,   0.,   0.,   0.,   2.],\n",
       "       [ 32.,   0.,   0.,   0.,   0.,   0.,   0.,   0.,   0.,   2.],\n",
       "       [ 32.,   0.,   0.,   0.,   0.,   0.,   0.,   0.,   0.,   2.],\n",
       "       [ 32.,   0.,   0.,   0.,   0.,   0.,   0.,   0.,   0.,   2.],\n",
       "       [ 32.,   8.,   8.,   8.,   8.,   8.,   8.,   8.,   8.,   2.]])"
      ]
     },
     "execution_count": 1268,
     "metadata": {},
     "output_type": "execute_result"
    }
   ],
   "source": [
    "#flowdir is used to store flow direction and in this block the edge pixel value is stored\n",
    "flowdir = np.zeros((rowlength,collength))\n",
    "\n",
    "for row in range(0,rowlength):\n",
    "    for col in range(0,collength):\n",
    "        \n",
    "        if col==0:\n",
    "            flowdir[row][col]=32\n",
    "            continue\n",
    "            \n",
    "        if col==collength-1:\n",
    "            flowdir[row][col]=2\n",
    "            continue\n",
    "            \n",
    "        if row==0:\n",
    "            flowdir[row][col]=128\n",
    "            continue\n",
    "            \n",
    "        if row==rowlength-1:\n",
    "            flowdir[row][col]=8\n",
    "            continue\n",
    "flowdir"
   ]
  },
  {
   "cell_type": "code",
   "execution_count": 1269,
   "metadata": {},
   "outputs": [
    {
     "data": {
      "text/plain": [
       "[[0, 0, 0, 0, 0, 0, 0, 0, 0, 0],\n",
       " [0, 0, 0, 0, 0, 0, 0, 0, 0, 0],\n",
       " [0, 0, 0, 0, 0, 0, 0, 0, 0, 0],\n",
       " [0, 0, 0, 0, 0, 0, 0, 0, 0, 0],\n",
       " [0, 0, 0, 0, 0, 0, 0, 0, 0, 0],\n",
       " [0, 0, 0, 0, 0, 0, 0, 0, 0, 0],\n",
       " [0, 0, 0, 0, 0, 0, 0, 0, 0, 0],\n",
       " [0, 0, 0, 0, 0, 0, 0, 0, 0, 0],\n",
       " [0, 0, 0, 0, 0, 0, 0, 0, 0, 0],\n",
       " [0, 0, 0, 0, 0, 0, 0, 0, 0, 0]]"
      ]
     },
     "execution_count": 1269,
     "metadata": {},
     "output_type": "execute_result"
    }
   ],
   "source": [
    "weighteddropmatrix=[[0]*collength for i in range(rowlength)]\n",
    "weighteddropmatrix"
   ]
  },
  {
   "cell_type": "code",
   "execution_count": 1270,
   "metadata": {},
   "outputs": [],
   "source": [
    "#In this block we find the neighbour drop and assign values as per Table3 step3\n",
    "#weighteddropmatrix stores weighteddrop values of neighbours for each pixel except the edge pixel for later purpose\n",
    "weighteddropmatrix=[[0]*collength for i in range(rowlength)]\n",
    "for row in range(0,rowlength):\n",
    "    for col in range(0,collength):\n",
    "        \n",
    "        if flowdir[row][col]!=0:    #These are the edge pixels so we donot need to compute for it\n",
    "            continue\n",
    "            \n",
    "        else:\n",
    "            \n",
    "            weighteddrop=[]\n",
    "            \n",
    "            topright=(newdem[row][col]-newdem[row-1][col+1])/math.sqrt(2)\n",
    "            right=newdem[row][col]-newdem[row][col+1]\n",
    "            bottomright=(newdem[row][col]-newdem[row+1][col+1])/math.sqrt(2)\n",
    "            bottom=newdem[row][col]-newdem[row+1][col]\n",
    "            bottomleft=(newdem[row][col]-newdem[row+1][col-1])/math.sqrt(2)\n",
    "            left=newdem[row][col]-newdem[row][col-1]\n",
    "            topleft=(newdem[row][col]-newdem[row-1][col-1])/math.sqrt(2)\n",
    "            top=newdem[row][col]-newdem[row-1][col]\n",
    "            \n",
    "            weighteddrop.append(topright)\n",
    "            weighteddrop.append(right)\n",
    "            weighteddrop.append(bottomright)\n",
    "            weighteddrop.append(bottom)\n",
    "            weighteddrop.append(bottomleft)\n",
    "            weighteddrop.append(left)\n",
    "            weighteddrop.append(topleft)\n",
    "            weighteddrop.append(top)\n",
    "            \n",
    "            weighteddropmatrix[row][col]=weighteddrop\n",
    "            largest=max(weighteddrop)\n",
    "            largestindex = weighteddrop.index(largest)\n",
    "            largestcount=weighteddrop.count(largest)\n",
    "            \n",
    "            \n",
    "            if largest<0:                      #undefined flow so random negative number is assigned\n",
    "                flowdir[row][col]=-20\n",
    "                \n",
    "            if largest>=0 and largestcount==1: #flow direction is along the largest drop\n",
    "                flowdir[row][col] = return_major_flowdir(largestindex)\n",
    "                \n",
    "            if largest>0 and largestcount>1:       #flow direction should be according to lookup table.\n",
    "                #case where largest count=3 and in order then picking the central value\n",
    "                if largestcount==3:\n",
    "                    indices = [ind for ind,val in enumerate(weighteddrop) if val==largest]\n",
    "                    indices.sort()\n",
    "                    if indices==[0,1,2] or indices==[1,2,3] or indices==[2,3,4] or indices==[3,4,5] or indices==[4,5,6] or indices==[5,6,7] or indices==[6,7,0] or indices==[7,0,1]:\n",
    "                        flowdir[row][col] = return_major_flowdir(indices[1]) #Assigning central value\n",
    "                    else:\n",
    "                        flowdir[row][col] = return_major_flowdir(largestindex) #Randomly assigning value\n",
    "                else:\n",
    "                    flowdir[row][col] = return_major_flowdir(largestindex) #Randomly assigning value \n",
    "                \n",
    "            if largest==0 and largestcount>1:  #summing their neighbours location code \n",
    "                directionsum=0\n",
    "                \n",
    "                indices = [ind for ind,val in enumerate(weighteddrop) if val==largest] \n",
    "                for ind in indices:\n",
    "                    directionsum +=return_major_flowdir(ind)\n",
    "                    \n",
    "                flowdir[row][col]=directionsum\n",
    "    "
   ]
  },
  {
   "cell_type": "code",
   "execution_count": 1271,
   "metadata": {},
   "outputs": [
    {
     "data": {
      "text/plain": [
       "array([[ 32., 128., 128., 128., 128., 128., 128., 128., 128.,   2.],\n",
       "       [ 32.,   1., 128.,  64., 128., 128.,   1., 128.,  64.,   2.],\n",
       "       [ 32.,   1.,   8.,  16., 128., 128.,   1., 128.,  64.,   2.],\n",
       "       [ 32.,   2.,   8.,  32., 128., 128.,   1., 128.,  64.,   2.],\n",
       "       [ 32.,   2.,  24.,  32.,  16., 128.,   1., 128.,  64.,   2.],\n",
       "       [ 32.,  15., 184.,  32.,   8.,  16.,   1., 128.,  64.,   2.],\n",
       "       [ 32., 131., 224.,  32.,   8.,  32.,   1., 128.,  64.,   2.],\n",
       "       [ 32., 128., 128.,  64.,  96.,  32.,   1., 128.,  64.,   2.],\n",
       "       [ 32., 128., 128., 128., 128.,  64.,   2., 128.,  32.,   2.],\n",
       "       [ 32.,   8.,   8.,   8.,   8.,   8.,   8.,   8.,   8.,   2.]])"
      ]
     },
     "execution_count": 1271,
     "metadata": {},
     "output_type": "execute_result"
    }
   ],
   "source": [
    "flowdir"
   ]
  },
  {
   "cell_type": "code",
   "execution_count": 1272,
   "metadata": {},
   "outputs": [],
   "source": [
    "#For each cell not already encoded as negative, 0, 1, 2, 4, 8, 16, 32, 64, or 128, examine the neighbor cells \n",
    "#with the largest drop. If a neighbor is encountered that has a flow direction of 1, 2, 4, 8, 16, 32, 64, or 128, \n",
    "#and the neighbor does not flow to the center cell, assign the center cell a flow direction which\n",
    "#flows to this neighbor.\n",
    "#Table 3 step 4\n",
    "for row in range(0,rowlength):\n",
    "    for col in range(0,collength):\n",
    "        if flowdir[row][col]<0 or flowdir[row][col]==0 or flowdir[row][col]==1 or flowdir[row][col]==2 or flowdir[row][col]==4 or flowdir[row][col]==8 or flowdir[row][col]==16 or flowdir[row][col]==32 or flowdir[row][col]==64 or flowdir[row][col]==128:\n",
    "            continue\n",
    "        else:\n",
    "            weighteddrop=weighteddropmatrix[row][col]\n",
    "            maxweighteddrop=max(weighteddrop)\n",
    "            maxweighteddroplist = [ind for (ind,val) in enumerate(weighteddrop) if val==maxweighteddrop]\n",
    "            \n",
    "            for maxweighteddropindex in maxweighteddroplist:\n",
    "                \n",
    "                rowval, colval = return_neighbours_location(row, col, maxweighteddropindex)\n",
    "            \n",
    "                if flowdir[rowval][colval]==1 or flowdir[rowval][colval]==2 or flowdir[rowval][colval]==4 or flowdir[rowval][colval]==8 or flowdir[rowval][colval]==16 or flowdir[rowval][colval]==32 or flowdir[rowval][colval]==64 or flowdir[rowval][colval]==128:\n",
    "                    neighbourtocentre=False #checking if it flows to centre\n",
    "                \n",
    "                    if maxweighteddropindex==0 and flowdir[rowval][colval]==16:   #topright neighbour\n",
    "                        neighbourtocentre=True\n",
    "                    elif maxweighteddropindex==1 and flowdir[rowval][colval]==32: #right neighbour\n",
    "                        neighbourtocentre=True\n",
    "                    elif maxweighteddropindex==2 and flowdir[rowval][colval]==64: #bottomright neighbour\n",
    "                        neighbourtocentre=True\n",
    "                    elif maxweighteddropindex==3 and flowdir[rowval][colval]==128: #bottom neighbour\n",
    "                        neighbourtocentre=True\n",
    "                    elif maxweighteddropindex==4 and flowdir[rowval][colval]==1: #bottomleft neighbour\n",
    "                        neighbourtocentre=True\n",
    "                    elif maxweighteddropindex==5 and flowdir[rowval][colval]==2: #left neighbour\n",
    "                        neighbourtocentre=True\n",
    "                    elif maxweighteddropindex==6 and flowdir[rowval][colval]==4: #topleft neighbour\n",
    "                        neighbourtocentre=True\n",
    "                    else:                         #top neighbour\n",
    "                        if flowdir[rowval][colval]==8:\n",
    "                            neighbourtocentre=True\n",
    "\n",
    "                    if neighbourtocentre==False:    #neighbour doesnot flow to centre then centre flows to this neighbour \n",
    "                        flowdir[row][col] = return_major_flowdir(maxweighteddropindex)\n",
    "                        break"
   ]
  },
  {
   "cell_type": "code",
   "execution_count": 1273,
   "metadata": {},
   "outputs": [
    {
     "data": {
      "text/plain": [
       "array([[ 32., 128., 128., 128., 128., 128., 128., 128., 128.,   2.],\n",
       "       [ 32.,   1., 128.,  64., 128., 128.,   1., 128.,  64.,   2.],\n",
       "       [ 32.,   1.,   8.,  16., 128., 128.,   1., 128.,  64.,   2.],\n",
       "       [ 32.,   2.,   8.,  32., 128., 128.,   1., 128.,  64.,   2.],\n",
       "       [ 32.,   2.,  24.,  32.,  16., 128.,   1., 128.,  64.,   2.],\n",
       "       [ 32.,  15., 184.,  32.,   8.,  16.,   1., 128.,  64.,   2.],\n",
       "       [ 32., 131., 224.,  32.,   8.,  32.,   1., 128.,  64.,   2.],\n",
       "       [ 32., 128., 128.,  64.,  32.,  32.,   1., 128.,  64.,   2.],\n",
       "       [ 32., 128., 128., 128., 128.,  64.,   2., 128.,  32.,   2.],\n",
       "       [ 32.,   8.,   8.,   8.,   8.,   8.,   8.,   8.,   8.,   2.]])"
      ]
     },
     "execution_count": 1273,
     "metadata": {},
     "output_type": "execute_result"
    }
   ],
   "source": [
    "flowdir"
   ]
  },
  {
   "cell_type": "code",
   "execution_count": 1274,
   "metadata": {},
   "outputs": [],
   "source": [
    "#For directions that are not along the standard 8 directions are marked as negative\n",
    "for row in range(0,rowlength):\n",
    "    for col in range(0,collength):\n",
    "        if flowdir[row][col]!=1 and flowdir[row][col]!=2 and flowdir[row][col]!=4 and flowdir[row][col]!=8 and flowdir[row][col]!=16 and flowdir[row][col]!=32 and flowdir[row][col]!=64 and flowdir[row][col]!=128:\n",
    "            flowdir[row][col]=flowdir[row][col]*-1\n",
    "        else:\n",
    "            continue"
   ]
  },
  {
   "cell_type": "code",
   "execution_count": 1275,
   "metadata": {},
   "outputs": [
    {
     "data": {
      "text/plain": [
       "array([[  32.,  128.,  128.,  128.,  128.,  128.,  128.,  128.,  128.,\n",
       "           2.],\n",
       "       [  32.,    1.,  128.,   64.,  128.,  128.,    1.,  128.,   64.,\n",
       "           2.],\n",
       "       [  32.,    1.,    8.,   16.,  128.,  128.,    1.,  128.,   64.,\n",
       "           2.],\n",
       "       [  32.,    2.,    8.,   32.,  128.,  128.,    1.,  128.,   64.,\n",
       "           2.],\n",
       "       [  32.,    2.,  -24.,   32.,   16.,  128.,    1.,  128.,   64.,\n",
       "           2.],\n",
       "       [  32.,  -15., -184.,   32.,    8.,   16.,    1.,  128.,   64.,\n",
       "           2.],\n",
       "       [  32., -131., -224.,   32.,    8.,   32.,    1.,  128.,   64.,\n",
       "           2.],\n",
       "       [  32.,  128.,  128.,   64.,   32.,   32.,    1.,  128.,   64.,\n",
       "           2.],\n",
       "       [  32.,  128.,  128.,  128.,  128.,   64.,    2.,  128.,   32.,\n",
       "           2.],\n",
       "       [  32.,    8.,    8.,    8.,    8.,    8.,    8.,    8.,    8.,\n",
       "           2.]])"
      ]
     },
     "execution_count": 1275,
     "metadata": {},
     "output_type": "execute_result"
    }
   ],
   "source": [
    "flowdir"
   ]
  },
  {
   "cell_type": "code",
   "execution_count": 1276,
   "metadata": {},
   "outputs": [],
   "source": [
    "#Creating unique watershed labels\n",
    "watershedlabel=np.zeros((rowlength,collength))\n",
    "unique_values = 1\n",
    "for row in range(0,rowlength):\n",
    "    for col in range(0,collength):\n",
    "        \n",
    "        if flowdir[row][col]<0:\n",
    "            watershedlabel[row][col]=unique_values\n",
    "            unique_values = unique_values+1\n",
    "            \n",
    "        else:\n",
    "            continue"
   ]
  },
  {
   "cell_type": "code",
   "execution_count": 1277,
   "metadata": {},
   "outputs": [
    {
     "data": {
      "text/plain": [
       "array([[0., 0., 0., 0., 0., 0., 0., 0., 0., 0.],\n",
       "       [0., 0., 0., 0., 0., 0., 0., 0., 0., 0.],\n",
       "       [0., 0., 0., 0., 0., 0., 0., 0., 0., 0.],\n",
       "       [0., 0., 0., 0., 0., 0., 0., 0., 0., 0.],\n",
       "       [0., 0., 1., 0., 0., 0., 0., 0., 0., 0.],\n",
       "       [0., 2., 3., 0., 0., 0., 0., 0., 0., 0.],\n",
       "       [0., 4., 5., 0., 0., 0., 0., 0., 0., 0.],\n",
       "       [0., 0., 0., 0., 0., 0., 0., 0., 0., 0.],\n",
       "       [0., 0., 0., 0., 0., 0., 0., 0., 0., 0.],\n",
       "       [0., 0., 0., 0., 0., 0., 0., 0., 0., 0.]])"
      ]
     },
     "execution_count": 1277,
     "metadata": {},
     "output_type": "execute_result"
    }
   ],
   "source": [
    "watershedlabel"
   ]
  },
  {
   "cell_type": "code",
   "execution_count": 1278,
   "metadata": {},
   "outputs": [],
   "source": [
    "#Allocating spatially connected groups of cell as one unique labels which is minimum of the connected cells\n",
    "#Excluding the border cells\n",
    "def unique_watershed_label():\n",
    "    '''Allocating spatially connected groups of cell as one unique labels which is minimum of the connected cells\n",
    "    excluding the border cells.Returns False if no value was updated'''\n",
    "    isfound = False\n",
    "    for row in range(1,rowlength-1):\n",
    "        for col in range(1,collength-1):\n",
    "            \n",
    "            neighbour_values = return_neighbours(row, col, watershedlabel)\n",
    "            neighbour_values = list(filter(lambda val:val!=0, neighbour_values)) #removed occurence of 0\n",
    "            \n",
    "            if len(neighbour_values)==0:\n",
    "                continue\n",
    "                \n",
    "            else:\n",
    "                min_neighbour_val = min(neighbour_values)\n",
    "                if(min_neighbour_val<watershedlabel[row][col]):\n",
    "                    isfound = True\n",
    "                    watershedlabel[row][col] = min_neighbour_val\n",
    "    return isfound"
   ]
  },
  {
   "cell_type": "code",
   "execution_count": 1279,
   "metadata": {},
   "outputs": [],
   "source": [
    "isfound = True\n",
    "while(isfound==True):\n",
    "    isfound = unique_watershed_label()"
   ]
  },
  {
   "cell_type": "code",
   "execution_count": 1280,
   "metadata": {},
   "outputs": [
    {
     "data": {
      "text/plain": [
       "array([[0., 0., 0., 0., 0., 0., 0., 0., 0., 0.],\n",
       "       [0., 0., 0., 0., 0., 0., 0., 0., 0., 0.],\n",
       "       [0., 0., 0., 0., 0., 0., 0., 0., 0., 0.],\n",
       "       [0., 0., 0., 0., 0., 0., 0., 0., 0., 0.],\n",
       "       [0., 0., 1., 0., 0., 0., 0., 0., 0., 0.],\n",
       "       [0., 1., 1., 0., 0., 0., 0., 0., 0., 0.],\n",
       "       [0., 1., 1., 0., 0., 0., 0., 0., 0., 0.],\n",
       "       [0., 0., 0., 0., 0., 0., 0., 0., 0., 0.],\n",
       "       [0., 0., 0., 0., 0., 0., 0., 0., 0., 0.],\n",
       "       [0., 0., 0., 0., 0., 0., 0., 0., 0., 0.]])"
      ]
     },
     "execution_count": 1280,
     "metadata": {},
     "output_type": "execute_result"
    }
   ],
   "source": [
    "watershedlabel"
   ]
  },
  {
   "cell_type": "code",
   "execution_count": 1281,
   "metadata": {},
   "outputs": [
    {
     "data": {
      "text/plain": [
       "array([[0., 0., 0., 0., 0., 0., 0., 0., 0., 0.],\n",
       "       [0., 0., 0., 0., 0., 0., 0., 0., 0., 0.],\n",
       "       [0., 0., 0., 0., 0., 0., 0., 0., 0., 0.],\n",
       "       [0., 0., 0., 0., 0., 0., 0., 0., 0., 0.],\n",
       "       [0., 0., 1., 0., 0., 0., 0., 0., 0., 0.],\n",
       "       [0., 1., 1., 0., 0., 0., 0., 0., 0., 0.],\n",
       "       [0., 1., 1., 0., 0., 0., 0., 0., 0., 0.],\n",
       "       [0., 0., 0., 0., 0., 0., 0., 0., 0., 0.],\n",
       "       [0., 0., 0., 0., 0., 0., 0., 0., 0., 0.],\n",
       "       [0., 0., 0., 0., 0., 0., 0., 0., 0., 0.]])"
      ]
     },
     "execution_count": 1281,
     "metadata": {},
     "output_type": "execute_result"
    }
   ],
   "source": [
    "#creating distinct watershed label values for spatially connected groups\n",
    "label_set = []\n",
    "for row in range(1,rowlength-1):\n",
    "    for col in range(1, collength-1):\n",
    "        if watershedlabel[row][col]!=0:\n",
    "            if watershedlabel[row][col] not in label_set:\n",
    "                label_set.append(watershedlabel[row][col])\n",
    "            watershedlabel[row][col] = label_set.index(watershedlabel[row][col])+1\n",
    "watershedlabel"
   ]
  },
  {
   "cell_type": "code",
   "execution_count": 1282,
   "metadata": {},
   "outputs": [
    {
     "data": {
      "text/plain": [
       "[1.0]"
      ]
     },
     "execution_count": 1282,
     "metadata": {},
     "output_type": "execute_result"
    }
   ],
   "source": [
    "label_set = np.unique(watershedlabel).tolist()\n",
    "if label_set[0]==0:\n",
    "    label_set = label_set[1:]\n",
    "label_set"
   ]
  },
  {
   "cell_type": "code",
   "execution_count": 1283,
   "metadata": {},
   "outputs": [],
   "source": [
    "class pour_point_table(object):\n",
    "    def __init__(self, pair, elevation, location):\n",
    "        self.pair = pair\n",
    "        self.elevation = elevation\n",
    "        self.location = location\n",
    "        \n",
    "    def get_pair(self):\n",
    "        return self.pair\n",
    "    def get_elevation(self):\n",
    "        return self.elevation\n",
    "    def get_location(self):\n",
    "        return self.location\n",
    "    def set_elevation(self, newelevation):\n",
    "        self.elevation = newelevation\n",
    "    def set_location(self, newlocation):\n",
    "        self.location = newlocation\n"
   ]
  },
  {
   "cell_type": "code",
   "execution_count": 1284,
   "metadata": {},
   "outputs": [],
   "source": [
    "def is_pair_present(pair, pour_point_list):\n",
    "    for obj in pour_point_list:\n",
    "        obj_pair = obj.get_pair()\n",
    "        if obj_pair==pair:\n",
    "            return True\n",
    "    return False"
   ]
  },
  {
   "cell_type": "code",
   "execution_count": 1285,
   "metadata": {},
   "outputs": [],
   "source": [
    "def pair_present_location(pair, pour_point_list):\n",
    "    for (ind,obj) in enumerate(pour_point_list):\n",
    "        if obj.get_pair()==pair:\n",
    "            return ind"
   ]
  },
  {
   "cell_type": "code",
   "execution_count": 1286,
   "metadata": {},
   "outputs": [],
   "source": [
    "def prepare_pour_points_table():\n",
    "    pour_point_list = []\n",
    "    for row in range(1,rowlength-1):\n",
    "        for col in range(1,collength-1):\n",
    "\n",
    "            neighbour_values = return_neighbours(row, col, watershedlabel)\n",
    "            for index,val in enumerate(neighbour_values):\n",
    "                if watershedlabel[row][col]!=val:\n",
    "                    row_neighbour, col_neighbour = return_neighbours_location(row, col, index)\n",
    "                    elevation = max(newdem[row][col], newdem[row_neighbour][col_neighbour])\n",
    "                    pair = (min(watershedlabel[row][col],watershedlabel[row_neighbour][col_neighbour]), \n",
    "                            max(watershedlabel[row][col],watershedlabel[row_neighbour][col_neighbour]))\n",
    "                    if is_pair_present(pair,pour_point_list)==True:\n",
    "                        index_pour_point_list = pair_present_location(pair, pour_point_list)\n",
    "                        obj = pour_point_list[index_pour_point_list]\n",
    "                        original_elevation = obj.get_elevation()\n",
    "                        if elevation<original_elevation:\n",
    "                            obj.set_elevation(elevation)\n",
    "                            obj.set_location((row,col))\n",
    "                            pour_point_list[index_pour_point_list] = obj\n",
    "                    else:\n",
    "                        obj = pour_point_table(pair, elevation, (row,col))\n",
    "                        pour_point_list.append(obj)\n",
    "                        \n",
    "    #Creating dataframe to display pour point table                    \n",
    "    df_table = pd.DataFrame(data=None, columns=['Pair', 'Elevation', 'Location(row,col)'])\n",
    "    for obj in pour_point_list:\n",
    "        df_table = df_table.append({'Pair': obj.get_pair(), 'Elevation':obj.get_elevation(),\n",
    "                                'Location(row,col)':obj.get_location()},ignore_index=True)\n",
    "    df_table.set_index('Pair', inplace=True)\n",
    "    return df_table"
   ]
  },
  {
   "cell_type": "code",
   "execution_count": 1287,
   "metadata": {},
   "outputs": [
    {
     "data": {
      "text/html": [
       "<div>\n",
       "<style scoped>\n",
       "    .dataframe tbody tr th:only-of-type {\n",
       "        vertical-align: middle;\n",
       "    }\n",
       "\n",
       "    .dataframe tbody tr th {\n",
       "        vertical-align: top;\n",
       "    }\n",
       "\n",
       "    .dataframe thead th {\n",
       "        text-align: right;\n",
       "    }\n",
       "</style>\n",
       "<table border=\"1\" class=\"dataframe\">\n",
       "  <thead>\n",
       "    <tr style=\"text-align: right;\">\n",
       "      <th></th>\n",
       "      <th>Elevation</th>\n",
       "      <th>Location(row,col)</th>\n",
       "    </tr>\n",
       "    <tr>\n",
       "      <th>Pair</th>\n",
       "      <th></th>\n",
       "      <th></th>\n",
       "    </tr>\n",
       "  </thead>\n",
       "  <tbody>\n",
       "    <tr>\n",
       "      <th>(0.0, 1.0)</th>\n",
       "      <td>8.0</td>\n",
       "      <td>(3, 2)</td>\n",
       "    </tr>\n",
       "  </tbody>\n",
       "</table>\n",
       "</div>"
      ],
      "text/plain": [
       "            Elevation Location(row,col)\n",
       "Pair                                   \n",
       "(0.0, 1.0)        8.0            (3, 2)"
      ]
     },
     "execution_count": 1287,
     "metadata": {},
     "output_type": "execute_result"
    }
   ],
   "source": [
    "prepare_pour_points_table()"
   ]
  },
  {
   "cell_type": "code",
   "execution_count": 1288,
   "metadata": {},
   "outputs": [
    {
     "data": {
      "text/plain": [
       "[1.0]"
      ]
     },
     "execution_count": 1288,
     "metadata": {},
     "output_type": "execute_result"
    }
   ],
   "source": [
    "label_set"
   ]
  },
  {
   "cell_type": "code",
   "execution_count": 1289,
   "metadata": {},
   "outputs": [],
   "source": [
    "class watershed_data(object):\n",
    "    def __init__(self, row, col):\n",
    "        self.row = row\n",
    "        self.col = col\n",
    "        self.dem_val = newdem[row][col]\n",
    "        self.watershed_label = watershedlabel[row][col]\n",
    "    def get_row(self):\n",
    "        return int(self.row)\n",
    "    def get_col(self):\n",
    "        return int(self.col)\n",
    "    def get_dem_val(self):\n",
    "        return self.dem_val\n",
    "    def get_watershed_label(self):\n",
    "        return int(self.watershed_label)"
   ]
  },
  {
   "cell_type": "code",
   "execution_count": 1290,
   "metadata": {},
   "outputs": [],
   "source": [
    "#Preparing an array of all pour/sinks\n",
    "all_pour_point = []\n",
    "for row in range(rowlength):\n",
    "    for col in range(collength):\n",
    "        if watershedlabel[row][col] in label_set:\n",
    "            all_pour_point.append(watershed_data(row,col))"
   ]
  },
  {
   "cell_type": "code",
   "execution_count": 1291,
   "metadata": {},
   "outputs": [],
   "source": [
    "def return_neighbours_coordinate(row,col):\n",
    "    ''' This returns a list of tuple values of the neighbours in clockwise direction \n",
    "    starting from topright and finally to top'''\n",
    "    neighbours_coordinate = []\n",
    "    for ind in range(0,8):\n",
    "        neighbours_coordinate.append(return_neighbours_location(row,col,ind))\n",
    "    \n",
    "    return neighbours_coordinate"
   ]
  },
  {
   "cell_type": "code",
   "execution_count": 1292,
   "metadata": {},
   "outputs": [],
   "source": [
    "def unique_neighbour_coordinate(neighbours_coordinate, label_pour_point):\n",
    "    '''This function takes neighbours_coordinate as list and label_pour_point list and \n",
    "    remove those neighbour coordinate which are already present on label_pour_point.\n",
    "    As this is mutable so change is also reflected in the original called function'''\n",
    "    \n",
    "    label_pour_point_coordinate_list = [(obj.get_row(),obj.get_col()) for obj in label_pour_point]        \n",
    "    neighbours_coordinate = [coordinate for coordinate in neighbours_coordinate if coordinate not in label_pour_point_coordinate_list]\n",
    "    return neighbours_coordinate"
   ]
  },
  {
   "cell_type": "code",
   "execution_count": 1293,
   "metadata": {},
   "outputs": [],
   "source": [
    "def return_min_label_pour_point(label_pour_point):\n",
    "    '''This function returns the object whose cell value has the lowest dem value'''\n",
    "    \n",
    "    min_demval = label_pour_point[0].get_dem_val()\n",
    "    label_pour_point_min = label_pour_point[0]\n",
    "    \n",
    "    for ind,obj in enumerate(label_pour_point):\n",
    "        if obj.get_dem_val()<min_demval:\n",
    "            min_demval = obj.get_dem_val()\n",
    "            label_pour_point_min = label_pour_point[ind]\n",
    "    \n",
    "    return label_pour_point_min"
   ]
  },
  {
   "cell_type": "code",
   "execution_count": 1294,
   "metadata": {},
   "outputs": [],
   "source": [
    "def is_borderpixel(row,col):\n",
    "    '''Return true/false based on the whether that row,col lies on border or not'''\n",
    "    if row==0 or row==rowlength-1 or col==0 or col==collength-1:\n",
    "        return True\n",
    "    else:\n",
    "        return False"
   ]
  },
  {
   "cell_type": "code",
   "execution_count": 1295,
   "metadata": {},
   "outputs": [],
   "source": [
    "def return_min_neighbours_coordinate(neighbours_coordinate):\n",
    "    '''This function returns the location of minimum value of dem and preference to non boundary pixel is given'''\n",
    "    #Initialising everything with the first value\n",
    "    min_row = neighbours_coordinate[0][0]\n",
    "    min_col = neighbours_coordinate[0][1]\n",
    "    min_dem = newdem[min_row][min_col]\n",
    "    \n",
    "    for cells in neighbours_coordinate:\n",
    "        row = cells[0]\n",
    "        col = cells[1]\n",
    "        if newdem[row][col]<min_dem:           #Lower dem value found, so updating all the variables\n",
    "            min_dem = newdem[row][col]\n",
    "            min_row = row\n",
    "            min_col = col\n",
    "        elif newdem[row][col]==min_dem:\n",
    "            if is_borderpixel(min_row,min_col):  #Update in hope of getting a non-border cell value \n",
    "                min_row = row\n",
    "                min_col = col\n",
    "        else:\n",
    "            continue\n",
    "    return (min_row,min_col)"
   ]
  },
  {
   "cell_type": "code",
   "execution_count": 1296,
   "metadata": {},
   "outputs": [],
   "source": [
    "def update_data(label_pour_point, row, col, label_val):\n",
    "    watershedlabel[row][col] = label_val\n",
    "    for obj in label_pour_point:\n",
    "        if newdem[obj.get_row()][obj.get_col()] < newdem[row][col]:\n",
    "            newdem[obj.get_row()][obj.get_col()] = newdem[row][col]"
   ]
  },
  {
   "cell_type": "code",
   "execution_count": 1297,
   "metadata": {},
   "outputs": [],
   "source": [
    "#Starting the raising watershed process\n",
    "remaining_label_set = copy.deepcopy(label_set)    #All different label values\n",
    "\n",
    "while(len(remaining_label_set)>0): \n",
    "    \n",
    "    label_val = remaining_label_set.pop()   #Picked one label for processing and removed that from the list\n",
    "    label_pour_point = []                   #To store all pixels which has label value==label_val\n",
    "\n",
    "    label_pour_point = [obj for obj in all_pour_point if obj.get_watershed_label()==label_val]\n",
    "    all_pour_point = [obj for obj in all_pour_point if obj not in label_pour_point] #Updating all_pour_point\n",
    "            \n",
    "    while(True):\n",
    "        neighbours_coordinate = []\n",
    "        for val in label_pour_point:\n",
    "            row = val.get_row()\n",
    "            col = val.get_col()\n",
    "            neighbours_coordinate += return_neighbours_coordinate(row,col) #We have all neighbours of cell in N\n",
    "        neighbours_coordinate = list(set(neighbours_coordinate)) #Removing duplicate instances\n",
    "        neighbours_coordinate = unique_neighbour_coordinate(neighbours_coordinate, label_pour_point) #Removing inside neighbours (Array M)\n",
    "        \n",
    "        #finding minimum for label_pour_point\n",
    "        label_pour_point_min = return_min_label_pour_point(label_pour_point)\n",
    "        \n",
    "        #finding minimum dem for neighbours_coordinate\n",
    "        neighbour_row_min,neighbour_col_min = return_min_neighbours_coordinate(neighbours_coordinate)\n",
    "        \n",
    "        if is_borderpixel(neighbour_row_min,neighbour_col_min):\n",
    "            break\n",
    "        if newdem[neighbour_row_min][neighbour_col_min] < newdem[label_pour_point_min.get_row()][label_pour_point_min.get_col()]:\n",
    "            break\n",
    "        else:    #Neighbour is either greater or equal so we need to update the values\n",
    "            label_pour_point.append(watershed_data(neighbour_row_min, neighbour_col_min))\n",
    "            update_data(label_pour_point, neighbour_row_min, neighbour_col_min, label_val) #To update dem values"
   ]
  },
  {
   "cell_type": "code",
   "execution_count": 1298,
   "metadata": {},
   "outputs": [
    {
     "data": {
      "text/plain": [
       "array([[ 7.,  7.,  6.,  7.,  7.,  7.,  7.,  5.,  7.,  7.],\n",
       "       [ 9.,  9.,  8.,  9.,  9.,  9.,  9.,  7.,  9.,  9.],\n",
       "       [11., 11., 10., 11., 11., 11., 11.,  9., 11., 11.],\n",
       "       [12., 12., 10., 12., 12., 12., 12., 10., 12., 12.],\n",
       "       [13., 12., 10., 12., 13., 13., 13., 11., 13., 13.],\n",
       "       [14., 10., 10., 11., 14., 14., 14., 12., 14., 14.],\n",
       "       [15., 10., 10., 10., 10., 15., 15., 13., 15., 15.],\n",
       "       [15., 10., 10., 10., 10., 16., 16., 14., 16., 16.],\n",
       "       [15., 11., 11., 11., 11., 17., 17., 14., 17., 17.],\n",
       "       [15., 15., 15., 15., 15., 18., 18., 15., 18., 18.]])"
      ]
     },
     "execution_count": 1298,
     "metadata": {},
     "output_type": "execute_result"
    }
   ],
   "source": [
    "newdem"
   ]
  },
  {
   "cell_type": "code",
   "execution_count": 1299,
   "metadata": {},
   "outputs": [
    {
     "data": {
      "text/plain": [
       "array([[0., 0., 0., 0., 0., 0., 0., 0., 0., 0.],\n",
       "       [0., 0., 0., 0., 0., 0., 0., 0., 0., 0.],\n",
       "       [0., 0., 1., 0., 0., 0., 0., 0., 0., 0.],\n",
       "       [0., 0., 1., 0., 0., 0., 0., 0., 0., 0.],\n",
       "       [0., 0., 1., 0., 0., 0., 0., 0., 0., 0.],\n",
       "       [0., 1., 1., 0., 0., 0., 0., 0., 0., 0.],\n",
       "       [0., 1., 1., 1., 1., 0., 0., 0., 0., 0.],\n",
       "       [0., 1., 1., 1., 1., 0., 0., 0., 0., 0.],\n",
       "       [0., 0., 0., 0., 0., 0., 0., 0., 0., 0.],\n",
       "       [0., 0., 0., 0., 0., 0., 0., 0., 0., 0.]])"
      ]
     },
     "execution_count": 1299,
     "metadata": {},
     "output_type": "execute_result"
    }
   ],
   "source": [
    "watershedlabel"
   ]
  },
  {
   "cell_type": "code",
   "execution_count": 1300,
   "metadata": {},
   "outputs": [
    {
     "data": {
      "text/html": [
       "<div>\n",
       "<style scoped>\n",
       "    .dataframe tbody tr th:only-of-type {\n",
       "        vertical-align: middle;\n",
       "    }\n",
       "\n",
       "    .dataframe tbody tr th {\n",
       "        vertical-align: top;\n",
       "    }\n",
       "\n",
       "    .dataframe thead th {\n",
       "        text-align: right;\n",
       "    }\n",
       "</style>\n",
       "<table border=\"1\" class=\"dataframe\">\n",
       "  <thead>\n",
       "    <tr style=\"text-align: right;\">\n",
       "      <th></th>\n",
       "      <th>Elevation</th>\n",
       "      <th>Location(row,col)</th>\n",
       "    </tr>\n",
       "    <tr>\n",
       "      <th>Pair</th>\n",
       "      <th></th>\n",
       "      <th></th>\n",
       "    </tr>\n",
       "  </thead>\n",
       "  <tbody>\n",
       "    <tr>\n",
       "      <th>(0.0, 1.0)</th>\n",
       "      <td>10.0</td>\n",
       "      <td>(1, 1)</td>\n",
       "    </tr>\n",
       "  </tbody>\n",
       "</table>\n",
       "</div>"
      ],
      "text/plain": [
       "            Elevation Location(row,col)\n",
       "Pair                                   \n",
       "(0.0, 1.0)       10.0            (1, 1)"
      ]
     },
     "execution_count": 1300,
     "metadata": {},
     "output_type": "execute_result"
    }
   ],
   "source": [
    "#Displaying updated pour point table\n",
    "prepare_pour_points_table()"
   ]
  }
 ],
 "metadata": {
  "kernelspec": {
   "display_name": "Python 3",
   "language": "python",
   "name": "python3"
  },
  "language_info": {
   "codemirror_mode": {
    "name": "ipython",
    "version": 3
   },
   "file_extension": ".py",
   "mimetype": "text/x-python",
   "name": "python",
   "nbconvert_exporter": "python",
   "pygments_lexer": "ipython3",
   "version": "3.7.7"
  }
 },
 "nbformat": 4,
 "nbformat_minor": 4
}
